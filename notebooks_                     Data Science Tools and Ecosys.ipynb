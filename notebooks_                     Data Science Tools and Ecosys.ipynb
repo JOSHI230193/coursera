{
  "metadata": {
    "language_info": {
      "name": ""
    },
    "kernelspec": {
      "name": "python",
      "display_name": "Python (Pyodide)",
      "language": "python"
    }
  },
  "nbformat_minor": 4,
  "nbformat": 4,
  "cells": [
    {
      "cell_type": "raw",
      "source": " 2                     Data Science Tools and Ecosystem",
      "metadata": {}
    },
    {
      "cell_type": "raw",
      "source": "3      In this note book Data Science Tools and Ecosystem are summerized       ",
      "metadata": {}
    },
    {
      "cell_type": "raw",
      "source": "4 Create a markdown cell to list data science languages.\n\nsome popular data science languages are\n  1. Python\n  2. R\n  3. SQL\n  4. Scala\n  5. Java\n  6. SAS  ",
      "metadata": {}
    },
    {
      "cell_type": "raw",
      "source": "5 Create a markdown cell to list data science libraries.\n\nSome of the commonly used libraries used by Data Scientists include:\n1. TensorFlow\n2. NumPy\n3. scipy\n4. Pandas\n5. Matplotlib\n6. Keras\n7. SciK1t-Learn\n8. PyTotch. etc..;\n",
      "metadata": {}
    },
    {
      "cell_type": "raw",
      "source": "6. reate a markdown cell with a table of Data Science tools\n\nSome of the commonly used tools used by Data Scientists include:\n1.Anaconda \n2.Jupiter notebook\n3.R studio\n4. spyder\n5.zeppelin",
      "metadata": {}
    },
    {
      "cell_type": "raw",
      "source": "7. Create a markdown cell introducing arithmetic expression examples.\n\n1.Addition\n2.Subtraction\n3.Multiplication\n4.Division\n5.Exponentiation \n6.Modulus",
      "metadata": {}
    },
    {
      "cell_type": "code",
      "source": "8 Create a code cell to multiply and add numbers.\n\n(3*4)+5",
      "metadata": {
        "trusted": true
      },
      "execution_count": null,
      "outputs": []
    },
    {
      "cell_type": "code",
      "source": "17",
      "metadata": {
        "trusted": true
      },
      "execution_count": null,
      "outputs": []
    },
    {
      "cell_type": "code",
      "source": "9.Create a code cell to convert minutes to hours.\n\n200/60\n",
      "metadata": {
        "trusted": true
      },
      "execution_count": null,
      "outputs": []
    },
    {
      "cell_type": "code",
      "source": "3.3333333333333335",
      "metadata": {
        "trusted": true
      },
      "execution_count": null,
      "outputs": []
    },
    {
      "cell_type": "raw",
      "source": "10 -Insert a markdown cell to list Objectives.\n\nObjective\n• List languages for Data Science\n• List popular libraries for Data Science\n• List of Well known Data Science Tools\n• How to Provide nmments in the cell\n",
      "metadata": {}
    }
  ]
}